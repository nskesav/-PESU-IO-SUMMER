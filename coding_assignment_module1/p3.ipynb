{
 "cells": [
  {
   "cell_type": "code",
   "execution_count": 2,
   "metadata": {},
   "outputs": [
    {
     "name": "stdout",
     "output_type": "stream",
     "text": [
      "enter sorted array1,3,5,7,9,11,13,15,17,19\n",
      "enter a number to search11\n",
      "POS is at\n",
      "6\n"
     ]
    }
   ],
   "source": [
    "arr=(input(\"enter sorted array\")).split(\",\")\n",
    "b=int(input(\"enter a number to search\"))\n",
    "beg=0\n",
    "end =len(arr)-1\n",
    "flag=False\n",
    "while(beg<=end and flag==False):\n",
    "       mid=int((beg+end)//2)\n",
    "       if int(arr[mid])==b:\n",
    "          flag = True\n",
    "          print(\"POS is at\")\n",
    "          print(mid+1)\n",
    "       else:\n",
    "          if(b<int(arr[mid])):\n",
    "                end=mid-1\n",
    "          else:\n",
    "                beg=mid+1\n",
    "if(flag==False):\n",
    "    print(\"Not Found in the given array\")"
   ]
  },
  {
   "cell_type": "code",
   "execution_count": null,
   "metadata": {},
   "outputs": [],
   "source": []
  },
  {
   "cell_type": "code",
   "execution_count": null,
   "metadata": {},
   "outputs": [],
   "source": []
  }
 ],
 "metadata": {
  "kernelspec": {
   "display_name": "Python 3",
   "language": "python",
   "name": "python3"
  },
  "language_info": {
   "codemirror_mode": {
    "name": "ipython",
    "version": 3
   },
   "file_extension": ".py",
   "mimetype": "text/x-python",
   "name": "python",
   "nbconvert_exporter": "python",
   "pygments_lexer": "ipython3",
   "version": "3.7.1"
  }
 },
 "nbformat": 4,
 "nbformat_minor": 2
}
